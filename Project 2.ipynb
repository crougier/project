{
 "cells": [
  {
   "cell_type": "markdown",
   "metadata": {},
   "source": [
    "Before we start, let's load the files and libraries"
   ]
  },
  {
   "cell_type": "code",
   "execution_count": 61,
   "metadata": {},
   "outputs": [],
   "source": [
    "import csv\n",
    "import numpy as np\n",
    "import pandas as pd\n",
    "import seaborn as sns\n",
    "import matplotlib.pyplot as plt\n",
    "from sklearn.metrics import f1_score\n",
    "from sklearn.ensemble import GradientBoostingClassifier\n",
    "from sklearn import svm\n",
    "from sklearn.model_selection import train_test_split"
   ]
  },
  {
   "cell_type": "code",
   "execution_count": 62,
   "metadata": {},
   "outputs": [
    {
     "name": "stdout",
     "output_type": "stream",
     "text": [
      "The initial number of rows of the test data set is  2,141\n",
      "The initial number of rows of the train data set is  8,161\n"
     ]
    }
   ],
   "source": [
    "# Load csv as df\n",
    "test_df = pd.read_csv(\"test_auto.csv\")\n",
    "train_df = pd.read_csv(\"train_auto.csv\")\n",
    "\n",
    "print(\"The initial number of rows of the test data set is \", \"{:,}\".format(len(test_df[\"INDEX\"])))\n",
    "print(\"The initial number of rows of the train data set is \", \"{:,}\".format(len(train_df[\"INDEX\"])))\n"
   ]
  },
  {
   "cell_type": "markdown",
   "metadata": {},
   "source": [
    "# 1. Initial Try"
   ]
  },
  {
   "cell_type": "markdown",
   "metadata": {},
   "source": [
    "## 1. a) Clean the data"
   ]
  },
  {
   "cell_type": "markdown",
   "metadata": {},
   "source": [
    "We start in 1. by using a straightforward method to clean the data. This involves:\n",
    "- converting the columns with dollar price to integers\n",
    "- removing the rows with at least one missing value in the train data set\n",
    "- replacing missing values in the test data set with most frequent values\n",
    "- correcting the typos\n",
    "- the columns with only 2 strings (for example, \"yes\" or \"no\") are converted to 0 or 1\n",
    "- the columns with more strings are divided into multiple columns with 0 or 1 (using one hot encoding)"
   ]
  },
  {
   "cell_type": "code",
   "execution_count": 63,
   "metadata": {},
   "outputs": [],
   "source": [
    "# this is to find the columns with dollar price\n",
    "\n",
    "def find_price_columns(x):\n",
    "    price_col = []\n",
    "    for col in x.columns:\n",
    "        if( x[col].dtypes ==\"object\"):\n",
    "            if \"$\" in x.loc[1,col]:\n",
    "                price_col += [col]\n",
    "    return price_col"
   ]
  },
  {
   "cell_type": "code",
   "execution_count": 64,
   "metadata": {},
   "outputs": [],
   "source": [
    "# this is to convert the columns with prices in $ to int\n",
    "\n",
    "def clean_price_column(x):\n",
    "    try:\n",
    "        return int(x.translate({ord('$'): None, ord(','): None}))\n",
    "    except (ValueError, AttributeError):\n",
    "        return np.NaN"
   ]
  },
  {
   "cell_type": "code",
   "execution_count": 65,
   "metadata": {},
   "outputs": [],
   "source": [
    "# version where we delete rows with missing values\n",
    "\n",
    "def clean_data(df, is_test, price_columns):\n",
    "    \n",
    "    # Remove rows with missing values in all columns except for TARGET_FLAG and TARGET_AMT\n",
    "    if is_test == True:\n",
    "        df = df.dropna(subset = df.columns[3:26])\n",
    "    else:\n",
    "    # if train data set, also remove rows if missing values in TARGET_FLAG and TARGET_AMT\n",
    "        df = df.dropna()\n",
    "        \n",
    "    # Remove index column\n",
    "    df = df.drop(\"INDEX\",axis=1)\n",
    "    df = df.applymap( lambda s: s.lower() if type(s) == str else s)\n",
    "    \n",
    "    # transform dollar number to numbers\n",
    "    for col in price_columns:\n",
    "        df[col] = df[col].apply(clean_price_column)\n",
    "            \n",
    "    # Correct typos z_\n",
    "    for col in df.columns:\n",
    "        df[col] = df[col].apply(lambda x: x.replace(\"z_\",\"\") if type(x) is str else x)\n",
    "\n",
    "        # Transform columns with binary values to 0 or 1, except TARGET_FLAG\n",
    "        values = df[col].unique()\n",
    "        bin_columns_exclude = [\"TARGET_FLAG\"]\n",
    "        if col not in bin_columns_exclude and len( values ) == 2 :\n",
    "            df[col] = df[col].apply(lambda x: 1 if x == values[0] else 0)\n",
    "    return df       \n"
   ]
  },
  {
   "cell_type": "code",
   "execution_count": 66,
   "metadata": {},
   "outputs": [],
   "source": [
    "# version where we replace missing values with most frequent one\n",
    "\n",
    "def clean_data_2(df, is_test, price_columns ):\n",
    "    \n",
    "    # Remove index column\n",
    "    df = df.drop(\"INDEX\",axis=1)\n",
    "    df = df.applymap( lambda s: s.lower() if type(s) == str else s)\n",
    "    \n",
    "    # transform dollar number to numbers\n",
    "    for col in price_columns:\n",
    "            df[col] = df[col].apply(clean_price_column)\n",
    "        \n",
    "    # Correct typos z_\n",
    "    for col in df.columns:\n",
    "        df[col] = df[col].apply(lambda x: x.replace(\"z_\",\"\") if type(x) is str else x)\n",
    "\n",
    "        # Transform columns with binary values to 0 or 1, except TARGET_FLAG\n",
    "        values = df[col].unique()\n",
    "        bin_columns_exclude = [\"TARGET_FLAG\"]\n",
    "        if col not in bin_columns_exclude and len( values ) == 2 :\n",
    "            df[col] = df[col].apply(lambda x: 1 if x == values[0] else 0)\n",
    "    \n",
    "    # Replace missing values with most frequent in all columns except for TARGET_FLAG and TARGET_AMT\n",
    "    if is_test == True:\n",
    "        df.iloc[:,3:26] = df.iloc[:,3:26].fillna(df.mode().iloc[0])\n",
    "    else:\n",
    "     # if train data set, also replace missing values in TARGET_FLAG and TARGET_AMT    \n",
    "        df = df.fillna(df.mode().iloc[0])\n",
    "        \n",
    "    return df  "
   ]
  },
  {
   "cell_type": "code",
   "execution_count": 67,
   "metadata": {},
   "outputs": [
    {
     "name": "stdout",
     "output_type": "stream",
     "text": [
      "The number of rows after cleaning of the train data set is  6,045\n"
     ]
    }
   ],
   "source": [
    "# for the test data set, we replace missing value with most frequent one\n",
    "test_df = clean_data_2( test_df, True, find_price_columns(test_df) )\n",
    "# for the train data set, we delete rows with missings values\n",
    "train_df = clean_data( train_df, False, find_price_columns(train_df) )\n",
    "\n",
    "# hot encoding\n",
    "clean_test = pd.concat([test_df.select_dtypes(\"number\"), pd.get_dummies(test_df.select_dtypes(object))], axis=1)\n",
    "clean_train = pd.concat([train_df.select_dtypes(\"number\"), pd.get_dummies(train_df.select_dtypes(object))], axis=1)\n",
    "\n",
    "print(\"The number of rows after cleaning of the train data set is \", \"{:,}\".format(len(clean_train[\"TARGET_FLAG\"])))\n",
    "\n",
    "clean_test.to_csv(\"1a_test_after_cleaning.csv\")\n",
    "clean_train.to_csv(\"1a_train_after_cleaning.csv\")"
   ]
  },
  {
   "cell_type": "markdown",
   "metadata": {},
   "source": [
    "## 1. b) Run Machine Learning model"
   ]
  },
  {
   "cell_type": "code",
   "execution_count": 68,
   "metadata": {},
   "outputs": [
    {
     "name": "stdout",
     "output_type": "stream",
     "text": [
      "The accuracy score is 0.78\n",
      "The f1 score is 0.49\n"
     ]
    }
   ],
   "source": [
    "test_size = 0.2\n",
    "\n",
    "# We want to predict target_flag based on the values in all the other columns except target_amt\n",
    "x = clean_train.drop(columns = [\"TARGET_FLAG\",\"TARGET_AMT\"])\n",
    "y = clean_train[\"TARGET_FLAG\"]\n",
    "\n",
    "X_train, X_test, y_train, y_test = train_test_split(x, y, test_size= test_size)\n",
    "\n",
    "model = GradientBoostingClassifier()\n",
    "model.fit(X_train, y_train)\n",
    "result = model.predict(X_test) # to compare with y test \n",
    "\n",
    "print(\"The accuracy score is\", \"{:.2f}\".format(model.score(X_test, y_test)))\n",
    "print( \"The f1 score is\", \"{:.2f}\".format(f1_score(y_test, result)))\n",
    "\n",
    "z = clean_test.drop(columns = [\"TARGET_FLAG\",\"TARGET_AMT\"])\n",
    "clean_test[\"TARGET_FLAG\"] = model.predict(z)\n",
    "clean_test.to_csv(\"1b_test_results.csv\")\n"
   ]
  },
  {
   "cell_type": "markdown",
   "metadata": {},
   "source": [
    "# 2. Suggested enhancements"
   ]
  },
  {
   "cell_type": "markdown",
   "metadata": {},
   "source": [
    "## 2. a) Remove the least important categories"
   ]
  },
  {
   "cell_type": "markdown",
   "metadata": {},
   "source": [
    "We will calculate the importance of each column in the previous model. We can use this to filter out the least important ones."
   ]
  },
  {
   "cell_type": "code",
   "execution_count": 69,
   "metadata": {},
   "outputs": [
    {
     "name": "stdout",
     "output_type": "stream",
     "text": [
      "\n",
      "We can ignore these categories: \n",
      " ['HOMEKIDS', 'CLM_FREQ', 'EDUCATION_<high school', 'EDUCATION_masters', 'EDUCATION_phd', 'JOB_doctor', 'JOB_home maker', 'JOB_lawyer', 'JOB_professional', 'JOB_student', 'CAR_TYPE_panel truck', 'CAR_TYPE_pickup', 'CAR_TYPE_van']\n",
      "\n",
      "We keep these categories:\n",
      " ['KIDSDRIV', 'AGE', 'YOJ', 'INCOME', 'PARENT1', 'HOME_VAL', 'MSTATUS', 'SEX', 'TRAVTIME', 'CAR_USE', 'BLUEBOOK', 'TIF', 'RED_CAR', 'OLDCLAIM', 'REVOKED', 'MVR_PTS', 'CAR_AGE', 'URBANICITY', 'EDUCATION_bachelors', 'EDUCATION_high school', 'JOB_blue collar', 'JOB_clerical', 'JOB_manager', 'CAR_TYPE_minivan', 'CAR_TYPE_sports car', 'CAR_TYPE_suv']\n",
      "\n",
      "The accuracy score is 0.79\n",
      "The f1 score is 0.52\n"
     ]
    }
   ],
   "source": [
    "importance_threshold = 0.001\n",
    "remove_indices = []\n",
    "remove_categories = [];\n",
    "keep_indices = []\n",
    "keep_categories = [];\n",
    "\n",
    "for (i,importance) in enumerate( model.feature_importances_ ):\n",
    "    # print(x.columns[i],\": \", \"{:.2f}\".format(importance))\n",
    "    if( importance < importance_threshold):\n",
    "        remove_indices += [i]\n",
    "        remove_categories += [x.columns[i]]\n",
    "    else:\n",
    "        keep_indices += [i]\n",
    "        keep_categories += [x.columns[i]]\n",
    "        \n",
    "print(\"\\nWe can ignore these categories: \\n\", remove_categories)\n",
    "print(\"\\nWe keep these categories:\\n\", keep_categories)\n",
    "\n",
    "clean_test = clean_test.drop(remove_categories,axis=1)\n",
    "clean_train = clean_train.drop(remove_categories,axis=1)\n",
    "\n",
    "x = clean_train.drop(columns = [\"TARGET_FLAG\",\"TARGET_AMT\"])\n",
    "y = clean_train[\"TARGET_FLAG\"]\n",
    "\n",
    "X_train, X_test, y_train, y_test = train_test_split(x, y, test_size=test_size)\n",
    "\n",
    "model_2 = GradientBoostingClassifier()\n",
    "model_2.fit(X_train, y_train)\n",
    "result = model_2.predict(X_test) \n",
    "\n",
    "print(\"\\nThe accuracy score is\", \"{:.2f}\".format(model_2.score(X_test, y_test)))\n",
    "print( \"The f1 score is\", \"{:.2f}\".format(f1_score(y_test, result)))\n",
    "\n",
    "z = clean_test.drop(columns = [\"TARGET_FLAG\",\"TARGET_AMT\"])\n",
    "clean_test[\"TARGET_FLAG\"] = model_2.predict(z)\n",
    "clean_test.to_csv(\"2a_test_results.csv\")\n"
   ]
  },
  {
   "cell_type": "markdown",
   "metadata": {},
   "source": [
    "## 2. b) Test another missing values method"
   ]
  },
  {
   "cell_type": "markdown",
   "metadata": {},
   "source": [
    "Instead of removing the rows of the train data set with at least 1 missing value, we replace the missing values with the most frequent value of the corresponding column."
   ]
  },
  {
   "cell_type": "code",
   "execution_count": 70,
   "metadata": {},
   "outputs": [
    {
     "name": "stdout",
     "output_type": "stream",
     "text": [
      "The number of rows after cleaning of the train data set is  8,161\n",
      "\n",
      "The accuracy score is 0.79\n",
      "The f1 score is 0.50\n"
     ]
    }
   ],
   "source": [
    "# reset data\n",
    "test_df  = pd.read_csv(\"test_auto.csv\")\n",
    "train_df = pd.read_csv(\"train_auto.csv\")\n",
    "\n",
    "# for both data sets, we replace missing value with most frequent one\n",
    "test_df  = clean_data_2( test_df, True, find_price_columns(test_df) )\n",
    "train_df = clean_data_2( train_df, False, find_price_columns(train_df) )\n",
    "\n",
    "clean_test  = pd.concat([test_df.select_dtypes(\"number\"), pd.get_dummies(test_df.select_dtypes(object))], axis=1)\n",
    "clean_train = pd.concat([train_df.select_dtypes(\"number\"), pd.get_dummies(train_df.select_dtypes(object))], axis=1)\n",
    "#clean_test.to_csv(\"2b_test_after_cleaning.csv\")\n",
    "#clean_train.to_csv(\"2b_train_after_cleaning.csv\")\n",
    "\n",
    "print(\"The number of rows after cleaning of the train data set is \", \"{:,}\".format(len(clean_train[\"TARGET_FLAG\"])))\n",
    "\n",
    "x = clean_train.drop(columns = [\"TARGET_FLAG\",\"TARGET_AMT\"])\n",
    "y = clean_train[\"TARGET_FLAG\"]\n",
    "\n",
    "X_train, X_test, y_train, y_test = train_test_split(x, y, test_size=test_size)\n",
    "\n",
    "model_3 = GradientBoostingClassifier()\n",
    "model_3.fit(X_train, y_train)\n",
    "result = model_3.predict(X_test) \n",
    "\n",
    "print(\"\\nThe accuracy score is\", \"{:.2f}\".format(model_3.score(X_test, y_test)))\n",
    "print( \"The f1 score is\", \"{:.2f}\".format(f1_score(y_test, result)))\n",
    "\n",
    "z = clean_test.drop(columns = [\"TARGET_FLAG\",\"TARGET_AMT\"])\n",
    "clean_test[\"TARGET_FLAG\"] = model_3.predict(z)\n",
    "clean_test.to_csv(\"2b_test_results.csv\")\n"
   ]
  },
  {
   "cell_type": "markdown",
   "metadata": {},
   "source": [
    "## 2. c) Deeper look into education fields"
   ]
  },
  {
   "cell_type": "markdown",
   "metadata": {},
   "source": [
    "We keep one education column only where we reflect the level of education by associating <high school with 0, high school with 1, etc."
   ]
  },
  {
   "cell_type": "code",
   "execution_count": 71,
   "metadata": {},
   "outputs": [
    {
     "name": "stdout",
     "output_type": "stream",
     "text": [
      "\n",
      "The accuracy score is 0.79\n",
      "The f1 score is 0.52\n"
     ]
    }
   ],
   "source": [
    "test_df  = pd.read_csv(\"test_auto.csv\")\n",
    "train_df = pd.read_csv(\"train_auto.csv\")\n",
    "test_df  = clean_data_2( test_df, True, find_price_columns(test_df))\n",
    "train_df = clean_data( train_df, False, find_price_columns(train_df) )\n",
    "\n",
    "def clean_edu_column(x):\n",
    "    level = {\"<high school\": 0, \"high school\": 1, \"bachelors\": 2, \"masters\": 3, \"phd\": 4}\n",
    "    try:\n",
    "        return level[x]\n",
    "    except (ValueError, AttributeError):\n",
    "        return np.NaN\n",
    "    \n",
    "test_df[\"EDUCATION\"] = test_df[\"EDUCATION\"].apply(clean_edu_column)\n",
    "train_df[\"EDUCATION\"] = train_df[\"EDUCATION\"].apply(clean_edu_column)\n",
    "\n",
    "clean_test  = pd.concat([test_df.select_dtypes(\"number\"), pd.get_dummies(test_df.select_dtypes(object))], axis=1)\n",
    "clean_train = pd.concat([train_df.select_dtypes(\"number\"), pd.get_dummies(train_df.select_dtypes(object))], axis=1)\n",
    "\n",
    "#clean_train.to_csv(\"2c_ii_train_after_cleaning.csv\")\n",
    "#clean_test.to_csv(\"2c_ii_test_after_cleaning.csv\")\n",
    "\n",
    "x = clean_train.drop(columns = [\"TARGET_FLAG\",\"TARGET_AMT\"])\n",
    "y = clean_train[\"TARGET_FLAG\"]\n",
    "\n",
    "X_train, X_test, y_train, y_test = train_test_split(x, y, test_size= test_size)\n",
    "\n",
    "model_5 = GradientBoostingClassifier()\n",
    "model_5.fit(X_train, y_train)\n",
    "result = model_5.predict(X_test) \n",
    "\n",
    "print(\"\\nThe accuracy score is\", \"{:.2f}\".format(model_5.score(X_test, y_test)))\n",
    "print( \"The f1 score is\", \"{:.2f}\".format(f1_score(y_test, result)))\n",
    "\n",
    "z = clean_test.drop(columns = [\"TARGET_FLAG\",\"TARGET_AMT\"])\n",
    "clean_test[\"TARGET_FLAG\"] = model_5.predict(z)\n",
    "clean_test.to_csv(\"2c_test_results.csv\")\n",
    "\n"
   ]
  },
  {
   "cell_type": "markdown",
   "metadata": {},
   "source": [
    "## 2. d) Analyse correlation before running"
   ]
  },
  {
   "cell_type": "markdown",
   "metadata": {},
   "source": [
    "We perform some correlation analysis on the initial data. We drop the columns with small absolute correlation with TARGET_FLAG."
   ]
  },
  {
   "cell_type": "code",
   "execution_count": 72,
   "metadata": {},
   "outputs": [
    {
     "name": "stdout",
     "output_type": "stream",
     "text": [
      "The absolute value of the correlations with TARGET_FLAG are:\n",
      " TARGET_FLAG    1.000000\n",
      "TARGET_AMT     0.541242\n",
      "MVR_PTS        0.230171\n",
      "CLM_FREQ       0.228004\n",
      "URBANICITY     0.226721\n",
      "HOME_VAL       0.184516\n",
      "PARENT1        0.162017\n",
      "CAR_USE        0.160423\n",
      "INCOME         0.148034\n",
      "REVOKED        0.142795\n",
      "OLDCLAIM       0.138721\n",
      "MSTATUS        0.131525\n",
      "AGE            0.115274\n",
      "HOMEKIDS       0.111866\n",
      "BLUEBOOK       0.111521\n",
      "CAR_AGE        0.110253\n",
      "KIDSDRIV       0.086933\n",
      "TIF            0.078885\n",
      "YOJ            0.066429\n",
      "TRAVTIME       0.051459\n",
      "RED_CAR        0.025165\n",
      "SEX            0.024006\n",
      "Name: TARGET_FLAG, dtype: float64\n",
      "\n",
      " We apply an absolute correlation threshold of 0.1 and we remove the following columns:\n",
      " ['KIDSDRIV', 'TIF', 'YOJ', 'TRAVTIME', 'RED_CAR', 'SEX']\n"
     ]
    },
    {
     "data": {
      "image/png": "[encoded data removed]",
      "text/plain": [
       "<Figure size 432x288 with 2 Axes>"
      ]
     },
     "metadata": {
      "needs_background": "light"
     },
     "output_type": "display_data"
    }
   ],
   "source": [
    "test_df  = pd.read_csv(\"test_auto.csv\")\n",
    "train_df = pd.read_csv(\"train_auto.csv\")\n",
    "test_df  = clean_data_2( test_df, True, find_price_columns(test_df) )\n",
    "train_df = clean_data( train_df, False, find_price_columns(train_df) )\n",
    "\n",
    "# pearson correlation\n",
    "corr_matrix = train_df.corr();\n",
    "corr_target_flag = abs(corr_matrix.loc[\"TARGET_FLAG\",:])\n",
    "corr_target_flag = corr_target_flag.sort_values(ascending = False)\n",
    "\n",
    "sns.heatmap(corr_matrix,cmap=\"YlGnBu\")\n",
    "print(\"The absolute value of the correlations with TARGET_FLAG are:\\n\",corr_target_flag)\n",
    "\n",
    "corr_threshold = 0.1\n",
    "\n",
    "# find which fiels are below the correlation threshold\n",
    "drop = []\n",
    "for (i,key) in enumerate(corr_target_flag.axes[0]):\n",
    "    if corr_target_flag[i] < corr_threshold:\n",
    "        drop += [key]\n",
    "        \n",
    "print(\"\\n We apply an absolute correlation threshold of\", corr_threshold, \"and we remove the following columns:\\n\", drop)\n",
    "\n",
    "test_df  = test_df.drop( columns = drop )\n",
    "train_df = train_df.drop( columns = drop)\n"
   ]
  },
  {
   "cell_type": "code",
   "execution_count": 73,
   "metadata": {},
   "outputs": [
    {
     "name": "stdout",
     "output_type": "stream",
     "text": [
      "\n",
      "The accuracy score is 0.79\n",
      "The f1 score is 0.52\n"
     ]
    }
   ],
   "source": [
    "clean_test = pd.concat([test_df.select_dtypes('number'), pd.get_dummies(test_df.select_dtypes(object))], axis=1)\n",
    "clean_train = pd.concat([train_df.select_dtypes('number'), pd.get_dummies(train_df.select_dtypes(object))], axis=1)\n",
    "\n",
    "x = clean_train.drop(columns = [\"TARGET_FLAG\",\"TARGET_AMT\"])\n",
    "y = clean_train[\"TARGET_FLAG\"]\n",
    "\n",
    "X_train, X_test, y_train, y_test = train_test_split(x, y, test_size=test_size)\n",
    "\n",
    "model_6 = GradientBoostingClassifier()\n",
    "model_6.fit(X_train, y_train)\n",
    "result = model_6.predict(X_test) \n",
    "\n",
    "print(\"\\nThe accuracy score is\", \"{:.2f}\".format(model_6.score(X_test, y_test)))\n",
    "print( \"The f1 score is\", \"{:.2f}\".format(f1_score(y_test, result)))\n",
    "\n",
    "z = clean_test.drop(columns = [\"TARGET_FLAG\",\"TARGET_AMT\"])\n",
    "clean_test[\"TARGET_FLAG\"] = model_6.predict(z)\n",
    "clean_test.to_csv(\"2d_test_results.csv\")\n"
   ]
  },
  {
   "cell_type": "markdown",
   "metadata": {},
   "source": [
    "## 2. e) Test another model"
   ]
  },
  {
   "cell_type": "code",
   "execution_count": 74,
   "metadata": {},
   "outputs": [
    {
     "name": "stdout",
     "output_type": "stream",
     "text": [
      "The accuracy score with SVM is 0.59\n",
      "f1 score is 0.39\n"
     ]
    }
   ],
   "source": [
    "# Let's test support vector machine\n",
    "\n",
    "test_df     = pd.read_csv(\"test_auto.csv\")\n",
    "train_df    = pd.read_csv(\"train_auto.csv\")\n",
    "test_df     = clean_data_2( test_df, True, find_price_columns(test_df) )\n",
    "train_df    = clean_data( train_df, False, find_price_columns(train_df) )\n",
    "clean_test  = pd.concat([test_df.select_dtypes(\"number\"), pd.get_dummies(test_df.select_dtypes(object))], axis=1)\n",
    "clean_train = pd.concat([train_df.select_dtypes(\"number\"), pd.get_dummies(train_df.select_dtypes(object))], axis=1)\n",
    "\n",
    "x = clean_train.drop(columns = [\"TARGET_FLAG\",\"TARGET_AMT\"])\n",
    "y = clean_train[\"TARGET_FLAG\"]\n",
    "\n",
    "X_train, X_test, y_train, y_test = train_test_split(x, y, test_size= test_size)\n",
    "\n",
    "model_7 = svm.NuSVC()\n",
    "model_7.fit(X_train, y_train)\n",
    "\n",
    "result = model_7.predict(X_test) # to compare with y test \n",
    "\n",
    "print(\"The accuracy score with SVM is\", \"{:.2f}\".format(model_7.score(X_test, y_test)))\n",
    "print( \"f1 score is\", \"{:.2f}\".format(f1_score(y_test, result)))\n",
    "\n",
    "z = clean_test.drop(columns = [\"TARGET_FLAG\",\"TARGET_AMT\"])\n",
    "clean_test[\"TARGET_FLAG\"] = model_7.predict(z)\n",
    "clean_test.to_csv(\"2e_test_results.csv\")\n"
   ]
  },
  {
   "cell_type": "markdown",
   "metadata": {},
   "source": [
    "## 3. Results and considerations"
   ]
  },
  {
   "cell_type": "markdown",
   "metadata": {},
   "source": [
    "We started in 1. by using a straightforward method to clean the data and to compute results. We then tested new strategies in 2:\n",
    "- In 2.a), we used the importance of each column to filter out some columns with low importance. Given the accuracy score doesn't change, we can drop some columns.\n",
    "- In 2.b), we used the same missing values strategy for the train data set than for the test data set (most frequent value). We could use other indicators too (mean for numbers for example). We could also look at guessing the missing values given data from the most correlated column.\n",
    "- In 2.c), we kept one education column only but we reflected the gradual level of education.\n",
    "- In 2.d), we performed an analysis of the absolute pearson correlation between the columns. We filtered out some columns with low correlation with TARGET_FLAG. We suggest we could look at other correlation methods in the future.\n",
    "- In 2.e), we used a different model: support vector machine. We found a lower accuracy score so we suggest we stick to GradientBoostingClassifier."
   ]
  },
  {
   "cell_type": "markdown",
   "metadata": {},
   "source": [
    "We notice that these different methods have not materially improved the accuracy score.\n",
    "However, we learnt from 2.b) that dropping certain parameters do not change the accuracy score (HOMEKIDS, EDUCATION_<high school, EDUCATION_bachelors, EDUCATION_phd, JOB_doctor, JOB_home maker, JOB_lawyer, JOB_professional, CAR_TYPE_panel truck & CAR_TYPE_pickup). On the other hand, some parameters seem to be important (OLDCLAIM & URBANICITY)."
   ]
  },
  {
   "cell_type": "markdown",
   "metadata": {},
   "source": [
    "In the above, I used the accuracy score and f1 score metrics to judge the performance of the model.\n",
    "Depending on what we are trying to model here, false positive and false negatives might be important to consider, and hence we might want to look at the f1 score instead of the accuracy score."
   ]
  },
  {
   "cell_type": "markdown",
   "metadata": {},
   "source": [
    "I think that this algorithm tries to predict whether a certain customer buys an object (1) or not (0). If they bought it, they paid the TARGET_AMT (which is different from 0 if and only if the customer bought the object).\n",
    "At such, I believe that we might be missing some parameters linked to human factors that cannot be measured - there is a part of irrationality. There might be other parameters mising too. "
   ]
  },
  {
   "cell_type": "code",
   "execution_count": null,
   "metadata": {},
   "outputs": [],
   "source": []
  },
  {
   "cell_type": "code",
   "execution_count": null,
   "metadata": {},
   "outputs": [],
   "source": []
  }
 ],
 "metadata": {
  "kernelspec": {
   "display_name": "Python 3",
   "language": "python",
   "name": "python3"
  },
  "language_info": {
   "codemirror_mode": {
    "name": "ipython",
    "version": 3
   },
   "file_extension": ".py",
   "mimetype": "text/x-python",
   "name": "python",
   "nbconvert_exporter": "python",
   "pygments_lexer": "ipython3",
   "version": "3.7.4"
  }
 },
 "nbformat": 4,
 "nbformat_minor": 2
}
